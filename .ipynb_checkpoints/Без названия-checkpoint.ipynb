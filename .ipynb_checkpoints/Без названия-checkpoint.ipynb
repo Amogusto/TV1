{
 "cells": [
  {
   "cell_type": "markdown",
   "id": "23b4281a",
   "metadata": {},
   "source": [
    "# 1"
   ]
  },
  {
   "cell_type": "markdown",
   "id": "69fb35cb",
   "metadata": {},
   "source": [
    "Даны значения величины заработной платы заемщиков банка (zp) и значения их поведенческого кредитного скоринга (ks): zp = [35, 45, 190, 200, 40, 70, 54, 150, 120, 110], ks = [401, 574, 874, 919, 459, 739, 653, 902, 746, 832]. Используя математические операции, посчитать коэффициенты линейной регрессии, приняв за X заработную плату (то есть, zp - признак), а за y - значения скорингового балла (то есть, ks - целевая переменная). Произвести расчет как с использованием intercept, так и без."
   ]
  },
  {
   "cell_type": "code",
   "execution_count": 1,
   "id": "451bb587",
   "metadata": {},
   "outputs": [],
   "source": [
    "import numpy as np\n",
    "\n",
    "# количество наблюдений\n",
    "n = 10\n",
    "\n",
    "x = np.array([35, 45, 190, 200, 40, 70, 54, 150, 120, 110], dtype=np.float64)\n",
    "y = np.array([401, 574, 874, 919, 459, 739, 653, 902, 746, 832], dtype=np.float64)"
   ]
  },
  {
   "cell_type": "markdown",
   "id": "03abf034",
   "metadata": {},
   "source": [
    "Для нахождения коэффициентов регрессии  𝑎  и  𝑏  воспользуемся приведенными выше формулами:"
   ]
  },
  {
   "cell_type": "code",
   "execution_count": 2,
   "id": "9834e531",
   "metadata": {},
   "outputs": [
    {
     "data": {
      "text/plain": [
       "2.620538882402765"
      ]
     },
     "execution_count": 2,
     "metadata": {},
     "output_type": "execute_result"
    }
   ],
   "source": [
    "b = (np.mean(x * y) - np.mean(x) * np.mean(y)) / (np.mean(x**2) - np.mean(x) ** 2)\n",
    "b"
   ]
  },
  {
   "cell_type": "code",
   "execution_count": 3,
   "id": "1fc9de2b",
   "metadata": {},
   "outputs": [
    {
     "data": {
      "text/plain": [
       "444.1773573243596"
      ]
     },
     "execution_count": 3,
     "metadata": {},
     "output_type": "execute_result"
    }
   ],
   "source": [
    "a = np.mean(y) - b * np.mean(x)\n",
    "a"
   ]
  },
  {
   "cell_type": "markdown",
   "id": "a238a848",
   "metadata": {},
   "source": [
    "Итак, уравнение регрессии имеет вид (коэффициенты округлены до сотых):\n",
    "\n",
    "𝑦=444.1+2.62⋅𝑥\n",
    "С увеличением зарплаты на 1 доллар кредитный скоринг возрастет на 2.62 пункта.\n",
    "\n",
    "Найдем коэффициент корреляции  𝑟  с помощью коэффициента  𝑏  и средних квадратического отклонения, посчитанного для массивов  𝑥  и  𝑦 :"
   ]
  },
  {
   "cell_type": "code",
   "execution_count": 6,
   "id": "2f77497f",
   "metadata": {},
   "outputs": [
    {
     "data": {
      "text/plain": [
       "0.8874900920739162"
      ]
     },
     "execution_count": 6,
     "metadata": {},
     "output_type": "execute_result"
    }
   ],
   "source": [
    "r = b * np.std(x) / np.std(y)\n",
    "r"
   ]
  },
  {
   "cell_type": "markdown",
   "id": "ace426ba",
   "metadata": {},
   "source": [
    "Найдем коэффициент детерминации  𝑅2 :"
   ]
  },
  {
   "cell_type": "code",
   "execution_count": 7,
   "id": "8eceb4b7",
   "metadata": {},
   "outputs": [
    {
     "data": {
      "text/plain": [
       "0.7876386635293682"
      ]
     },
     "execution_count": 7,
     "metadata": {},
     "output_type": "execute_result"
    }
   ],
   "source": [
    "R2 = r**2\n",
    "R2"
   ]
  },
  {
   "cell_type": "markdown",
   "id": "39e5bf48",
   "metadata": {},
   "source": [
    "Это означает, что 78.7% вариации кредитного скоринга ( 𝑦 ) объясняется вариацией фактора  𝑥  — зарплатой.\n",
    "\n",
    "С помощью этого уравнения регрессии посчитаем значения, предсказанные моделью значения цен на квартиры:"
   ]
  },
  {
   "cell_type": "markdown",
   "id": "542572c7",
   "metadata": {},
   "source": [
    "# 2"
   ]
  },
  {
   "cell_type": "code",
   "execution_count": 10,
   "id": "e71dc94c",
   "metadata": {},
   "outputs": [
    {
     "name": "stdout",
     "output_type": "stream",
     "text": [
      "Object `Стьюдента` not found.\n"
     ]
    }
   ],
   "source": [
    "В каких случаях для вычисления доверительных интервалов и проверки статистических гипотез используется таблица значений функции Лапласа, а в каких - таблица критических точек распределения Стьюдента?"
   ]
  },
  {
   "cell_type": "markdown",
   "id": "741bf2f7",
   "metadata": {},
   "source": [
    "В каких случаях для вычисления доверительных интервалов и проверки статистических гипотез используется таблица значений функции Лапласа, а в каких - таблица критических точек распределения Стьюдента"
   ]
  },
  {
   "cell_type": "markdown",
   "id": "98a276f6",
   "metadata": {},
   "source": [
    "Это зависит от того был ли порведен анализ генеральной совокупности."
   ]
  },
  {
   "cell_type": "code",
   "execution_count": null,
   "id": "e37b7c34",
   "metadata": {},
   "outputs": [],
   "source": []
  }
 ],
 "metadata": {
  "kernelspec": {
   "display_name": "Python 3 (ipykernel)",
   "language": "python",
   "name": "python3"
  },
  "language_info": {
   "codemirror_mode": {
    "name": "ipython",
    "version": 3
   },
   "file_extension": ".py",
   "mimetype": "text/x-python",
   "name": "python",
   "nbconvert_exporter": "python",
   "pygments_lexer": "ipython3",
   "version": "3.9.12"
  }
 },
 "nbformat": 4,
 "nbformat_minor": 5
}
